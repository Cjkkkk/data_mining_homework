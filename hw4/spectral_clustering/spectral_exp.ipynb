{
 "cells": [
  {
   "cell_type": "markdown",
   "metadata": {},
   "source": [
    "# Spectral Clustering\n",
    "*Complete and hand in this completed worksheet (including its outputs and any supporting code outside of the worksheet) with your assignment submission. Please check the pdf file for more details.*\n",
    "\n",
    "In this exercise you will:\n",
    "    \n",
    "- implement the **KNN graph** and other necessary algorithms for **spectral clustering**\n",
    "- play with the **threshold** of spectral clustering\n",
    "- apply spectral clustering on toy data and **real world data**, and compare it with k-means\n",
    "\n",
    "Please note that **YOU CANNOT USE ANY MACHINE LEARNING PACKAGE SUCH AS SKLEARN** for any homework, unless you are asked to."
   ]
  },
  {
   "cell_type": "code",
   "execution_count": null,
   "metadata": {},
   "outputs": [],
   "source": [
    "# some basic imports\n",
    "import scipy.io as sio\n",
    "import numpy as np\n",
    "import matplotlib.pyplot as plt\n",
    "import math\n",
    "from cluster_plot import cluster_plot\n",
    "\n",
    "%matplotlib inline\n",
    "\n",
    "%load_ext autoreload\n",
    "%autoreload 2"
   ]
  },
  {
   "cell_type": "markdown",
   "metadata": {},
   "source": [
    "## Experiment Spectral Clustering on synthesis data"
   ]
  },
  {
   "cell_type": "code",
   "execution_count": null,
   "metadata": {},
   "outputs": [],
   "source": [
    "cluster_data = sio.loadmat('cluster_data.mat')\n",
    "X = cluster_data['X']"
   ]
  },
  {
   "cell_type": "code",
   "execution_count": null,
   "metadata": {},
   "outputs": [],
   "source": [
    "# Uncomment following two line and choose proper parameters\n",
    "# k_in_knn_graph = \n",
    "# threshold = \n",
    "# begin answer\n",
    "# end answer\n",
    "\n",
    "# implement knn_graph in knn_graph.py\n",
    "from knn_graph import knn_graph\n",
    "\n",
    "W = knn_graph(X, k_in_knn_graph, threshold)\n",
    "\n",
    "# implement spectral in spectral\n",
    "from spectral import spectral\n",
    "\n",
    "idx = spectral(W, 2)\n",
    "cluster_plot(X, idx)"
   ]
  },
  {
   "cell_type": "code",
   "execution_count": null,
   "metadata": {
    "scrolled": true
   },
   "outputs": [],
   "source": [
    "from kmeans import kmeans\n",
    "\n",
    "idx = kmeans(X, 2)\n",
    "cluster_plot(X, idx)"
   ]
  },
  {
   "cell_type": "markdown",
   "metadata": {},
   "source": [
    "## Let's try Spectral Clustering on real-world data!"
   ]
  },
  {
   "cell_type": "code",
   "execution_count": null,
   "metadata": {},
   "outputs": [],
   "source": [
    "TDT2_data = sio.loadmat('TDT2_data.mat')\n",
    "fea = TDT2_data['fea']\n",
    "gnd = TDT2_data['gnd'].reshape(-1)"
   ]
  },
  {
   "cell_type": "code",
   "execution_count": null,
   "metadata": {
    "scrolled": true
   },
   "outputs": [],
   "source": [
    "from constructW import constructW\n",
    "from bestMap import bestMap\n",
    "from MutualInfo import MutualInfo\n",
    "# YOUR CODE HERE\n",
    "# begin answer\n",
    "# end answer"
   ]
  }
 ],
 "metadata": {
  "kernelspec": {
   "display_name": "Python 3",
   "language": "python",
   "name": "python3"
  },
  "language_info": {
   "codemirror_mode": {
    "name": "ipython",
    "version": 3
   },
   "file_extension": ".py",
   "mimetype": "text/x-python",
   "name": "python",
   "nbconvert_exporter": "python",
   "pygments_lexer": "ipython3",
   "version": "3.6.7"
  }
 },
 "nbformat": 4,
 "nbformat_minor": 2
}
