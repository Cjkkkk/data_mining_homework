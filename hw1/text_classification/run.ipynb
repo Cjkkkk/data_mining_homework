{
 "cells": [
  {
   "cell_type": "markdown",
   "metadata": {},
   "source": [
    "# Text Classification\n",
    "*Complete and hand in this completed worksheet (including its outputs and any supporting code outside of the worksheet) with your assignment submission. Please check the pdf file for more details.*\n",
    "\n",
    "In this exercise you will:\n",
    "    \n",
    "- implement a of spam classifier with **Naive Bayes method** for real world email messages\n",
    "- learn the **training and testing phase** for Naive Bayes classifier  \n",
    "- get an idea of the **precision-recall** tradeoff"
   ]
  },
  {
   "cell_type": "code",
   "execution_count": 51,
   "metadata": {},
   "outputs": [
    {
     "name": "stdout",
     "output_type": "stream",
     "text": [
      "The autoreload extension is already loaded. To reload it, use:\n",
      "  %reload_ext autoreload\n"
     ]
    }
   ],
   "source": [
    "# some basic imports\n",
    "import numpy as np\n",
    "import matplotlib.pyplot as plt\n",
    "import scipy.sparse\n",
    "%matplotlib inline\n",
    "\n",
    "%load_ext autoreload\n",
    "%autoreload 2"
   ]
  },
  {
   "cell_type": "code",
   "execution_count": 52,
   "metadata": {},
   "outputs": [
    {
     "name": "stdout",
     "output_type": "stream",
     "text": [
      "[2. 1. 0. ... 1. 9. 5.] (77386,)\n",
      "(353368,)\n"
     ]
    },
    {
     "name": "stderr",
     "output_type": "stream",
     "text": [
      "D:\\conda\\lib\\site-packages\\ipykernel_launcher.py:25: SparseEfficiencyWarning: Changing the sparsity structure of a csr_matrix is expensive. lil_matrix is more efficient.\n",
      "D:\\conda\\lib\\site-packages\\ipykernel_launcher.py:34: SparseEfficiencyWarning: Changing the sparsity structure of a csr_matrix is expensive. lil_matrix is more efficient.\n"
     ]
    }
   ],
   "source": [
    "# ham_train contains the occurrences of each word in ham emails. 1-by-N vector\n",
    "ham_train = np.loadtxt('ham_train.csv', delimiter=',')\n",
    "# spam_train contains the occurrences of each word in spam emails. 1-by-N vector\n",
    "spam_train = np.loadtxt('spam_train.csv', delimiter=',')\n",
    "\n",
    "print(ham_train, ham_train.shape)\n",
    "# N is the size of vocabulary.\n",
    "N = ham_train.shape[0]\n",
    "# There 9034 ham emails and 3372 spam emails in the training samples\n",
    "num_ham_train = 9034\n",
    "num_spam_train = 3372\n",
    "# Do smoothing\n",
    "x = np.vstack([ham_train, spam_train]) + 1\n",
    "\n",
    "# ham_test contains the occurences of each word in each ham test email. P-by-N vector, with P is number of ham test emails.\n",
    "i,j,ham_test = np.loadtxt('ham_test.txt').T\n",
    "i = i.astype(np.int)\n",
    "j = j.astype(np.int)\n",
    "print(ham_test.shape)\n",
    "# 按照(i-1, j-1)的坐标来填充，(i-1,j-1)代表第i个邮件的词库第j个单词的记录位置\n",
    "ham_test_tight = scipy.sparse.coo_matrix((ham_test, (i - 1, j - 1)))\n",
    "\n",
    "# 比如训练邮件里只有前300-5000个词而词库包含8000个词，后3000个0也需要加到array中\n",
    "ham_test = scipy.sparse.csr_matrix((ham_test_tight.shape[0], ham_train.shape[0]))\n",
    "ham_test[:, 0:ham_test_tight.shape[1]] = ham_test_tight\n",
    "\n",
    "\n",
    "# spam_test contains the occurences of each word in each spam test email. Q-by-N vector, with Q is number of spam test emails.\n",
    "i,j,spam_test = np.loadtxt('spam_test.txt').T\n",
    "i = i.astype(np.int)\n",
    "j = j.astype(np.int)\n",
    "spam_test_tight = scipy.sparse.csr_matrix((spam_test, (i - 1, j - 1)))\n",
    "spam_test = scipy.sparse.csr_matrix((spam_test_tight.shape[0], spam_train.shape[0]))\n",
    "spam_test[:, 0:spam_test_tight.shape[1]] = spam_test_tight\n"
   ]
  },
  {
   "cell_type": "markdown",
   "metadata": {},
   "source": [
    "## Now let's implement a ham/spam email classifier. Please refer to the PDF file for details"
   ]
  },
  {
   "cell_type": "code",
   "execution_count": 53,
   "metadata": {},
   "outputs": [],
   "source": [
    "from likelihood import likelihood\n",
    "# TODO\n",
    "# Implement a ham/spam email classifier, and calculate the accuracy of your classifier\n",
    "\n",
    "# Hint: you can directly do matrix multiply between scipy.sparse.coo_matrix and numpy.array.\n",
    "# Specifically, you can use sparse_matrix * np_array to do this. Note that when you use \"*\" operator\n",
    "# between numpy array, this is typically an elementwise multiply."
   ]
  },
  {
   "cell_type": "code",
   "execution_count": 54,
   "metadata": {},
   "outputs": [
    {
     "name": "stdout",
     "output_type": "stream",
     "text": [
      "[30032 75525 38175 45152  9493 65397 37567 13612 56929 19956]\n"
     ]
    }
   ],
   "source": [
    "# likelihood\n",
    "spam_likelihood = (spam_train + 1) / (np.sum(spam_train) + 2) #Laplace smoothing\n",
    "ham_likelihood = (ham_train + 1) / (np.sum(ham_train) + 2)\n",
    "\n",
    "ration = spam_likelihood/ ham_likelihood\n",
    "top_10_spam_word_index = ration.argsort()[::-1][:10]\n",
    "print(top_10_spam_word_index)"
   ]
  },
  {
   "cell_type": "code",
   "execution_count": 55,
   "metadata": {},
   "outputs": [
    {
     "name": "stdout",
     "output_type": "stream",
     "text": [
      "nbsp\n",
      "viagra\n",
      "pills\n",
      "cialis\n",
      "voip\n",
      "php\n",
      "meds\n",
      "computron\n",
      "sex\n",
      "width\n"
     ]
    }
   ],
   "source": [
    "import re\n",
    "f = open(\"all_word_map.txt\", \"r\", encoding='utf-8')\n",
    "dic = {}\n",
    "for line in f.readlines():\n",
    "    word, index = re.split(re.compile(r'\\s+'), line.strip())\n",
    "    dic[int(index)] = word\n",
    "\n",
    "for index in top_10_spam_word_index:\n",
    "    print(dic[index+1])"
   ]
  },
  {
   "cell_type": "code",
   "execution_count": 56,
   "metadata": {
    "collapsed": true
   },
   "outputs": [],
   "source": [
    "# prior\n",
    "ham_prior = num_ham_train / (num_ham_train + num_spam_train)\n",
    "spam_prior = num_spam_train / (num_ham_train + num_spam_train)"
   ]
  },
  {
   "cell_type": "code",
   "execution_count": 57,
   "metadata": {
    "collapsed": true
   },
   "outputs": [],
   "source": [
    "# use log likelihood to avoid underflow\n",
    "ham_log_likelihood = np.log(ham_likelihood)\n",
    "spam_log_likelihood = np.log(spam_likelihood)"
   ]
  },
  {
   "cell_type": "code",
   "execution_count": 58,
   "metadata": {
    "collapsed": true
   },
   "outputs": [],
   "source": [
    "# reshape vector to matrix\n",
    "ham_log_likelihood = ham_log_likelihood.reshape((-1,1))\n",
    "spam_log_likelihood = spam_log_likelihood.reshape((-1,1))\n",
    "\n",
    "# posterior\n",
    "ham_test_post1 = np.matmul(ham_test.todense(), ham_log_likelihood) + np.log(ham_prior)\n",
    "ham_test_post2 = np.matmul(ham_test.todense(), spam_log_likelihood) + np.log(spam_prior)\n",
    "spam_test_post1 = np.matmul(spam_test.todense(), spam_log_likelihood) + np.log(spam_prior)\n",
    "spam_test_post2 = np.matmul(spam_test.todense(), ham_log_likelihood) + np.log(ham_prior)"
   ]
  },
  {
   "cell_type": "code",
   "execution_count": 59,
   "metadata": {},
   "outputs": [
    {
     "name": "stdout",
     "output_type": "stream",
     "text": [
      "0.9845223700120919\n"
     ]
    }
   ],
   "source": [
    "# 计算正确分类的数目\n",
    "correct_ham_sum = ((ham_test_post1 > ham_test_post2) == True).sum()\n",
    "correct_spam_sum = ((spam_test_post1 > spam_test_post2) == True).sum()\n",
    "\n",
    "# 计算准确度\n",
    "accuracy = (correct_ham_sum + correct_spam_sum) / (ham_test.shape[0] + spam_test.shape[0])\n",
    "print(accuracy)"
   ]
  },
  {
   "cell_type": "code",
   "execution_count": 60,
   "metadata": {},
   "outputs": [
    {
     "name": "stdout",
     "output_type": "stream",
     "text": [
      "[[1106.   46.]\n",
      " [  18. 2965.]]\n"
     ]
    }
   ],
   "source": [
    "# 计算confus_matrix\n",
    "confus_matrix = np.zeros((2,2))\n",
    "confus_matrix[0,0] = tp = correct_spam_sum\n",
    "confus_matrix[1,0] = fn = spam_test.shape[0] - correct_spam_sum\n",
    "\n",
    "confus_matrix[0,1] = fp = ham_test.shape[0] - correct_ham_sum\n",
    "confus_matrix[1,1] = tn = correct_ham_sum\n",
    "print(confus_matrix)"
   ]
  },
  {
   "cell_type": "code",
   "execution_count": 45,
   "metadata": {},
   "outputs": [
    {
     "name": "stdout",
     "output_type": "stream",
     "text": [
      "0.9600694444444444 0.9839857651245552\n"
     ]
    }
   ],
   "source": [
    "# 计算precision和recall\n",
    "precision = tp / (tp + fp)\n",
    "recall = tp / (tp + fn)\n",
    "\n",
    "print(precision, recall)"
   ]
  }
 ],
 "metadata": {
  "kernelspec": {
   "display_name": "Python 3",
   "language": "python",
   "name": "python3"
  },
  "language_info": {
   "codemirror_mode": {
    "name": "ipython",
    "version": 3
   },
   "file_extension": ".py",
   "mimetype": "text/x-python",
   "name": "python",
   "nbconvert_exporter": "python",
   "pygments_lexer": "ipython3",
   "version": "3.6.2"
  }
 },
 "nbformat": 4,
 "nbformat_minor": 2
}
