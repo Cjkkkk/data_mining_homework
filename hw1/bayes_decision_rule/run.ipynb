{
 "cells": [
  {
   "cell_type": "markdown",
   "metadata": {},
   "source": [
    "# Bayes Decision Rule\n",
    "*Complete and hand in this completed worksheet (including its outputs and any supporting code outside of the worksheet) with your assignment submission. Please check the pdf file for more details.*\n",
    "\n",
    "In this exercise you will:\n",
    "    \n",
    "- implement the calculation of **likelihood** of each features given particular class \n",
    "- implement the calculation of **posterior** of each class given particular feature\n",
    "- implement the calculation of **minimal total risk** of bayes decision rule"
   ]
  },
  {
   "cell_type": "code",
   "execution_count": 21,
   "metadata": {},
   "outputs": [
    {
     "name": "stdout",
     "output_type": "stream",
     "text": [
      "The autoreload extension is already loaded. To reload it, use:\n",
      "  %reload_ext autoreload\n"
     ]
    }
   ],
   "source": [
    "# some basic imports\n",
    "import scipy.io as sio\n",
    "import numpy as np\n",
    "import matplotlib.pyplot as plt\n",
    "\n",
    "%matplotlib inline\n",
    "\n",
    "%load_ext autoreload\n",
    "%autoreload 2"
   ]
  },
  {
   "cell_type": "code",
   "execution_count": 22,
   "metadata": {},
   "outputs": [
    {
     "data": {
      "text/plain": [
       "[-6, 12]"
      ]
     },
     "execution_count": 22,
     "metadata": {},
     "output_type": "execute_result"
    }
   ],
   "source": [
    "data = sio.loadmat('data.mat')\n",
    "x1_train, x1_test, x2_train, x2_test = data['x1_train'], data['x1_test'], data['x2_train'], data['x2_test']\n",
    "all_x = np.concatenate([x1_train, x1_test, x2_train, x2_test], 1)\n",
    "data_range = [np.min(all_x), np.max(all_x)]\n",
    "data_range"
   ]
  },
  {
   "cell_type": "code",
   "execution_count": 23,
   "metadata": {},
   "outputs": [
    {
     "data": {
      "text/plain": [
       "(array([ 3,  4,  5,  6,  7,  8,  9, 10], dtype=uint8),\n",
       " array([-6, -5, -4, -3, -2, -1,  0,  1,  2,  3,  4,  5,  6,  7,  8,  9, 10,\n",
       "        11, 12], dtype=int16))"
      ]
     },
     "execution_count": 23,
     "metadata": {},
     "output_type": "execute_result"
    }
   ],
   "source": [
    "np.unique(data['x1_train']) ,np.unique(data['x2_train'])# 19个unique的值 每一个值作为一个feature"
   ]
  },
  {
   "cell_type": "code",
   "execution_count": 24,
   "metadata": {},
   "outputs": [
    {
     "data": {
      "text/plain": [
       "array([[  0.,   0.,   0.,   0.,   0.,   0.,   0.,   0.,   0.,   1.,   8.,\n",
       "         62., 133., 128.,  61.,   6.,   1.,   0.,   0.],\n",
       "       [  1.,   3.,   3.,   9.,  13.,  45.,  57.,  71.,  98.,  98.,  99.,\n",
       "        104.,  77.,  54.,  30.,  17.,  14.,   4.,   3.]])"
      ]
     },
     "execution_count": 24,
     "metadata": {},
     "output_type": "execute_result"
    }
   ],
   "source": [
    "from get_x_distribution import get_x_distribution\n",
    "\n",
    "train_x = get_x_distribution(x1_train, x2_train, data_range)\n",
    "test_x = get_x_distribution(x1_test, x2_test, data_range)\n",
    "train_x"
   ]
  },
  {
   "cell_type": "markdown",
   "metadata": {},
   "source": [
    "## Part 1 likelihood\n",
    "Your code for this section will be written inside **bayes_decision_rule/likehood.py**. "
   ]
  },
  {
   "cell_type": "code",
   "execution_count": 25,
   "metadata": {},
   "outputs": [
    {
     "name": "stdout",
     "output_type": "stream",
     "text": [
      "[[0.      0.      0.      0.      0.      0.      0.      0.      0.\n",
      "  0.0025  0.02    0.155   0.3325  0.32    0.1525  0.015   0.0025  0.\n",
      "  0.     ]\n",
      " [0.00125 0.00375 0.00375 0.01125 0.01625 0.05625 0.07125 0.08875 0.1225\n",
      "  0.1225  0.12375 0.13    0.09625 0.0675  0.0375  0.02125 0.0175  0.005\n",
      "  0.00375]]\n"
     ]
    },
    {
     "data": {
      "image/png": "[encoded data removed]",
      "text/plain": [
       "<Figure size 432x288 with 1 Axes>"
      ]
     },
     "metadata": {},
     "output_type": "display_data"
    },
    {
     "data": {
      "text/plain": [
       "array([[0.     , 0.     , 0.     , 0.     , 0.     , 0.     , 0.     ,\n",
       "        0.     , 0.     , 0.0025 , 0.02   , 0.155  , 0.3325 , 0.32   ,\n",
       "        0.1525 , 0.015  , 0.0025 , 0.     , 0.     ],\n",
       "       [0.00125, 0.00375, 0.00375, 0.01125, 0.01625, 0.05625, 0.07125,\n",
       "        0.08875, 0.1225 , 0.1225 , 0.12375, 0.13   , 0.09625, 0.0675 ,\n",
       "        0.0375 , 0.02125, 0.0175 , 0.005  , 0.00375]])"
      ]
     },
     "execution_count": 25,
     "metadata": {},
     "output_type": "execute_result"
    }
   ],
   "source": [
    "from likelihood import likelihood\n",
    "\n",
    "l = likelihood(train_x)\n",
    "width = 0.35\n",
    "p1 = plt.bar(np.arange(data_range[0], data_range[1] + 1), l.T[:,0], width)\n",
    "p2 = plt.bar(np.arange(data_range[0], data_range[1] + 1) + width, l.T[:,1], width)\n",
    "plt.xlabel('x')\n",
    "plt.ylabel('$P(x|\\omega)$')\n",
    "plt.legend((p1[0], p2[0]), ('$\\omega_1$', '$\\omega_2$'))\n",
    "plt.axis([data_range[0] - 1, data_range[1] + 1, 0, 0.5])\n",
    "plt.show()\n",
    "l"
   ]
  },
  {
   "cell_type": "code",
   "execution_count": 26,
   "metadata": {},
   "outputs": [
    {
     "data": {
      "text/plain": [
       "(3, 61, 64)"
      ]
     },
     "execution_count": 26,
     "metadata": {},
     "output_type": "execute_result"
    }
   ],
   "source": [
    "#TODO\n",
    "#compute the number of all the misclassified x using maximum likelihood decision rule\n",
    "\n",
    "# begin answer\n",
    "x1_test_result = [l[0, sample - data_range[0]] > l[1, sample - data_range[0]] for sample in x1_test[0,:]]\n",
    "x2_test_result = [l[1, sample - data_range[0]] > l[0, sample - data_range[0]] for sample in x2_test[0,:]]\n",
    "\n",
    "x1_test_false_sample_number = len(list(filter(lambda x: not x, x1_test_result)))\n",
    "x2_test_false_sample_number = len(list(filter(lambda x: not x, x2_test_result)))\n",
    "x1_test_false_sample_number ,x2_test_false_sample_number, x1_test_false_sample_number + x2_test_false_sample_number"
   ]
  },
  {
   "cell_type": "markdown",
   "metadata": {},
   "source": [
    "## Part 2 posterior\n",
    "Your code for this section will be written inside **bayes_decision_rule/posterior.py**. "
   ]
  },
  {
   "cell_type": "code",
   "execution_count": 30,
   "metadata": {},
   "outputs": [
    {
     "name": "stdout",
     "output_type": "stream",
     "text": [
      "[[0.      0.      0.      0.      0.      0.      0.      0.      0.\n",
      "  0.0025  0.02    0.155   0.3325  0.32    0.1525  0.015   0.0025  0.\n",
      "  0.     ]\n",
      " [0.00125 0.00375 0.00375 0.01125 0.01625 0.05625 0.07125 0.08875 0.1225\n",
      "  0.1225  0.12375 0.13    0.09625 0.0675  0.0375  0.02125 0.0175  0.005\n",
      "  0.00375]]\n"
     ]
    },
    {
     "data": {
      "image/png": "[encoded data removed]",
      "text/plain": [
       "<Figure size 432x288 with 1 Axes>"
      ]
     },
     "metadata": {},
     "output_type": "display_data"
    }
   ],
   "source": [
    "from posterior import posterior\n",
    "\n",
    "p = posterior(train_x)\n",
    "width = 0.35\n",
    "p1 = plt.bar(np.arange(data_range[0], data_range[1] + 1), p.T[:,0], width)\n",
    "p2 = plt.bar(np.arange(data_range[0], data_range[1] + 1) + width, p.T[:,1], width)\n",
    "plt.xlabel('x')\n",
    "plt.ylabel('$P(\\omega|x)$')\n",
    "plt.legend((p1[0], p2[0]), ('$\\omega_1$', '$\\omega_2$'))\n",
    "plt.axis([data_range[0] - 1, data_range[1] + 1, 0, 1.2])\n",
    "plt.show()"
   ]
  },
  {
   "cell_type": "code",
   "execution_count": 31,
   "metadata": {},
   "outputs": [
    {
     "data": {
      "text/plain": [
       "(15, 32, 47)"
      ]
     },
     "execution_count": 31,
     "metadata": {},
     "output_type": "execute_result"
    }
   ],
   "source": [
    "#TODO\n",
    "#compute the number of all the misclassified x using optimal bayes decision rule\n",
    "\n",
    "# begin answer\n",
    "x1_test_result = [p[0, sample - data_range[0]] > p[1, sample - data_range[0]] for sample in x1_test[0,:]]\n",
    "x2_test_result = [p[1, sample - data_range[0]] > p[0, sample - data_range[0]] for sample in x2_test[0,:]]\n",
    "\n",
    "\n",
    "x1_test_false_sample_number = len(list(filter(lambda x: not x, x1_test_result)))\n",
    "x2_test_false_sample_number = len(list(filter(lambda x: not x, x2_test_result)))\n",
    "x1_test_false_sample_number ,x2_test_false_sample_number, x1_test_false_sample_number + x2_test_false_sample_number\n",
    "# end answer"
   ]
  },
  {
   "cell_type": "markdown",
   "metadata": {},
   "source": [
    "## Part 3 risk\n"
   ]
  },
  {
   "cell_type": "code",
   "execution_count": 12,
   "metadata": {},
   "outputs": [
    {
     "data": {
      "text/plain": [
       "70.93464755007423"
      ]
     },
     "execution_count": 12,
     "metadata": {},
     "output_type": "execute_result"
    }
   ],
   "source": [
    "risk = np.array([[0, 1], [2, 0]])\n",
    "#TODO\n",
    "#get the minimal risk using optimal bayes decision rule and risk weights\n",
    "\n",
    "# begin answer\n",
    "all_x_test = np.concatenate([x1_test, x2_test], 1)\n",
    "min_risk = np.zeros(all_x_test.shape)\n",
    "\n",
    "row, column = all_x_test.shape \n",
    "for i in range(row):\n",
    "    for j in range(column):\n",
    "        sample = all_x_test[i][j]\n",
    "        a1_error = risk[0,0] * p[0, sample - data_range[0]] + risk[0,1] * p[1, sample - data_range[0]] \n",
    "        a2_error = risk[1,0] * p[0, sample - data_range[0]] + risk[1,1] * p[1, sample - data_range[0]]\n",
    "        if a1_error < a2_error:\n",
    "            min_risk[i][j] = a1_error\n",
    "        else:\n",
    "            min_risk[i][j] = a2_error\n",
    "min_risk.sum()\n",
    "# end answer"
   ]
  },
  {
   "cell_type": "code",
   "execution_count": null,
   "metadata": {
    "collapsed": true
   },
   "outputs": [],
   "source": []
  }
 ],
 "metadata": {
  "kernelspec": {
   "display_name": "Python 3",
   "language": "python",
   "name": "python3"
  },
  "language_info": {
   "codemirror_mode": {
    "name": "ipython",
    "version": 3
   },
   "file_extension": ".py",
   "mimetype": "text/x-python",
   "name": "python",
   "nbconvert_exporter": "python",
   "pygments_lexer": "ipython3",
   "version": "3.6.2"
  }
 },
 "nbformat": 4,
 "nbformat_minor": 2
}
